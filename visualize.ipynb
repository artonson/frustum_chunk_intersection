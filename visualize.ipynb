{
 "cells": [
  {
   "cell_type": "code",
   "execution_count": 1,
   "id": "117015fb",
   "metadata": {},
   "outputs": [
    {
     "data": {
      "text/html": [
       "<style>.container { width:80% !important; }</style>"
      ],
      "text/plain": [
       "<IPython.core.display.HTML object>"
      ]
     },
     "metadata": {},
     "output_type": "display_data"
    }
   ],
   "source": [
    "%load_ext autoreload\n",
    "%autoreload 2\n",
    "\n",
    "from IPython.display import display, HTML\n",
    "display(HTML(\"<style>.container { width:80% !important; }</style>\"))"
   ]
  },
  {
   "cell_type": "code",
   "execution_count": 2,
   "id": "63daa094",
   "metadata": {},
   "outputs": [],
   "source": [
    "# python3 select_view.py --data-dir DDD --scene SSSS --chunk CCC --overlap 0.5 --output-dir XXX"
   ]
  },
  {
   "cell_type": "code",
   "execution_count": 3,
   "id": "900e039e",
   "metadata": {},
   "outputs": [],
   "source": [
    "import os\n",
    "import sys\n",
    "sys.path.append('/Users/artonson/repos/frustum_chunk_intersection')"
   ]
  },
  {
   "cell_type": "code",
   "execution_count": 4,
   "id": "99b0d8d1",
   "metadata": {},
   "outputs": [],
   "source": [
    "import matplotlib.pyplot as plt\n",
    "import numpy as np\n",
    "import trimesh.transformations as tt"
   ]
  },
  {
   "cell_type": "code",
   "execution_count": 202,
   "id": "58280add",
   "metadata": {},
   "outputs": [],
   "source": [
    "from src.voxel_chunk_data import VoxelDataPaths\n",
    "from src.plotting import display_3d, PointsPlottable, CameraPlottable, VolumePlottable\n",
    "from src.colors import rgb_to_packed_colors\n",
    "from src.camera_pose import CameraPose"
   ]
  },
  {
   "cell_type": "code",
   "execution_count": 240,
   "id": "7516cecb",
   "metadata": {},
   "outputs": [],
   "source": [
    "paths = VoxelDataPaths(\n",
    "    data_root='/Users/artonson/tmp/spsg/',\n",
    "    scene_id='D7N2EKCX4Sj',\n",
    "    room_id='9',\n",
    "    chunk_id='*',)\n",
    "\n",
    "paths.load()"
   ]
  },
  {
   "cell_type": "code",
   "execution_count": 241,
   "id": "57e5b283",
   "metadata": {},
   "outputs": [],
   "source": [
    "full_volume = paths.full_volume\n",
    "full_volume.plot_type = 'points'"
   ]
  },
  {
   "cell_type": "code",
   "execution_count": 242,
   "id": "542fef5a",
   "metadata": {},
   "outputs": [],
   "source": [
    "for chunk_volume in paths.chunk_volumes:\n",
    "    chunk_volume.plot_type = 'points'"
   ]
  },
  {
   "cell_type": "code",
   "execution_count": 244,
   "id": "53796047",
   "metadata": {},
   "outputs": [
    {
     "data": {
      "text/plain": [
       "{537: CameraView(id=537, rgb_filename='/Users/artonson/tmp/spsg/images/D7N2EKCX4Sj/color/537.jpg', depth_filename='/Users/artonson/tmp/spsg/images/D7N2EKCX4Sj/depth/537.png', extrinsics=array([[ 0.793957  , -0.420913  , -0.438708  , -5.2193    ],\n",
       "        [ 0.607908  ,  0.538912  ,  0.583115  ,  2.95321   ],\n",
       "        [-0.00901589, -0.729662  ,  0.683748  , -1.81639   ],\n",
       "        [ 0.        ,  0.        ,  0.        ,  1.        ]]), intrinsics=array([[268.367,   0.   , 157.355,   0.   ],\n",
       "        [  0.   , 268.615, 126.59 ,   0.   ],\n",
       "        [  0.   ,   0.   ,   1.   ,   0.   ],\n",
       "        [  0.   ,   0.   ,   0.   ,   1.   ]]), rgb=array([[[175, 160, 155],\n",
       "         [201, 186, 181],\n",
       "         [192, 177, 172],\n",
       "         ...,\n",
       "         [187, 153, 143],\n",
       "         [191, 165, 152],\n",
       "         [193, 171, 157]],\n",
       " \n",
       "        [[199, 184, 179],\n",
       "         [183, 168, 163],\n",
       "         [183, 168, 163],\n",
       "         ...,\n",
       "         [200, 170, 159],\n",
       "         [208, 184, 172],\n",
       "         [129, 110,  95]],\n",
       " \n",
       "        [[222, 207, 202],\n",
       "         [185, 170, 165],\n",
       "         [185, 170, 165],\n",
       "         ...,\n",
       "         [156, 132, 120],\n",
       "         [107,  89,  77],\n",
       "         [198, 185, 169]],\n",
       " \n",
       "        ...,\n",
       " \n",
       "        [[ 24,  13,  17],\n",
       "         [ 23,  12,  16],\n",
       "         [ 23,  12,  16],\n",
       "         ...,\n",
       "         [197, 151, 153],\n",
       "         [196, 152, 153],\n",
       "         [196, 152, 153]],\n",
       " \n",
       "        [[ 25,  14,  18],\n",
       "         [ 24,  13,  17],\n",
       "         [ 23,  12,  16],\n",
       "         ...,\n",
       "         [197, 151, 153],\n",
       "         [197, 151, 154],\n",
       "         [197, 151, 154]],\n",
       " \n",
       "        [[ 27,  16,  20],\n",
       "         [ 24,  13,  17],\n",
       "         [ 22,  11,  15],\n",
       "         ...,\n",
       "         [197, 151, 153],\n",
       "         [197, 151, 154],\n",
       "         [197, 151, 154]]], dtype=uint8), depth=array([[   0.,    0., 1331., ..., 1131., 1127.,    0.],\n",
       "        [   0.,    0., 1333., ..., 1128., 1125.,    0.],\n",
       "        [   0.,    0., 1334., ..., 1124., 1122.,    0.],\n",
       "        ...,\n",
       "        [   0.,    0.,    0., ...,    0.,    0.,    0.],\n",
       "        [   0.,    0.,    0., ...,    0.,    0.,    0.],\n",
       "        [   0.,    0.,    0., ...,    0.,    0.,    0.]])),\n",
       " 1671: CameraView(id=1671, rgb_filename='/Users/artonson/tmp/spsg/images/D7N2EKCX4Sj/color/1671.jpg', depth_filename='/Users/artonson/tmp/spsg/images/D7N2EKCX4Sj/depth/1671.png', extrinsics=array([[ 0.813787  , -0.0220303 , -0.580746  , -4.5348    ],\n",
       "        [ 0.581092  ,  0.0151314 ,  0.813697  ,  2.26634   ],\n",
       "        [-0.00913862, -0.999643  ,  0.025115  , -1.79738   ],\n",
       "        [ 0.        ,  0.        ,  0.        ,  1.        ]]), intrinsics=array([[269.195,   0.   , 158.166,   0.   ],\n",
       "        [  0.   , 269.35 , 128.149,   0.   ],\n",
       "        [  0.   ,   0.   ,   1.   ,   0.   ],\n",
       "        [  0.   ,   0.   ,   0.   ,   1.   ]]), rgb=array([[[252, 252, 240],\n",
       "         [252, 252, 240],\n",
       "         [252, 252, 240],\n",
       "         ...,\n",
       "         [157, 148, 149],\n",
       "         [148, 140, 138],\n",
       "         [146, 138, 136]],\n",
       " \n",
       "        [[253, 253, 241],\n",
       "         [253, 253, 241],\n",
       "         [253, 253, 241],\n",
       "         ...,\n",
       "         [149, 140, 141],\n",
       "         [147, 139, 137],\n",
       "         [149, 141, 139]],\n",
       " \n",
       "        [[254, 254, 242],\n",
       "         [254, 254, 242],\n",
       "         [254, 254, 244],\n",
       "         ...,\n",
       "         [167, 161, 161],\n",
       "         [172, 164, 162],\n",
       "         [179, 171, 169]],\n",
       " \n",
       "        ...,\n",
       " \n",
       "        [[111,  93,  79],\n",
       "         [110,  92,  78],\n",
       "         [107,  89,  77],\n",
       "         ...,\n",
       "         [174, 170, 161],\n",
       "         [177, 173, 164],\n",
       "         [177, 173, 164]],\n",
       " \n",
       "        [[103,  85,  71],\n",
       "         [101,  83,  69],\n",
       "         [ 98,  80,  68],\n",
       "         ...,\n",
       "         [172, 168, 159],\n",
       "         [173, 169, 160],\n",
       "         [173, 169, 160]],\n",
       " \n",
       "        [[ 98,  80,  66],\n",
       "         [ 97,  79,  65],\n",
       "         [ 94,  76,  64],\n",
       "         ...,\n",
       "         [167, 163, 154],\n",
       "         [169, 165, 156],\n",
       "         [172, 168, 159]]], dtype=uint8), depth=array([[1015., 1017., 1021., ..., 1275., 1269., 1267.],\n",
       "        [1015., 1017., 1020., ..., 1272., 1269., 1266.],\n",
       "        [1013., 1017., 1020., ..., 1266., 1265., 1262.],\n",
       "        ...,\n",
       "        [2432., 2439., 2447., ..., 1242., 1239., 1237.],\n",
       "        [2429., 2437., 2447., ..., 1242., 1239., 1236.],\n",
       "        [2425., 2435., 2442., ..., 1242., 1240., 1238.]])),\n",
       " 2138: CameraView(id=2138, rgb_filename='/Users/artonson/tmp/spsg/images/D7N2EKCX4Sj/color/2138.jpg', depth_filename='/Users/artonson/tmp/spsg/images/D7N2EKCX4Sj/depth/2138.png', extrinsics=array([[-0.138654 , -0.0327661, -0.989799 , -5.21265  ],\n",
       "        [ 0.990209 ,  0.0117379, -0.1391   ,  2.94098  ],\n",
       "        [ 0.0161758, -0.999394 ,  0.0308175, -1.78345  ],\n",
       "        [ 0.       ,  0.       ,  0.       ,  1.       ]]), intrinsics=array([[269.195,   0.   , 158.166,   0.   ],\n",
       "        [  0.   , 269.35 , 128.149,   0.   ],\n",
       "        [  0.   ,   0.   ,   1.   ,   0.   ],\n",
       "        [  0.   ,   0.   ,   0.   ,   1.   ]]), rgb=array([[[184, 142, 144],\n",
       "         [184, 142, 144],\n",
       "         [184, 142, 143],\n",
       "         ...,\n",
       "         [164, 119, 116],\n",
       "         [161, 114, 108],\n",
       "         [159, 110, 103]],\n",
       " \n",
       "        [[184, 142, 144],\n",
       "         [184, 142, 143],\n",
       "         [184, 142, 143],\n",
       "         ...,\n",
       "         [162, 117, 114],\n",
       "         [159, 112, 106],\n",
       "         [158, 109, 102]],\n",
       " \n",
       "        [[183, 143, 143],\n",
       "         [183, 143, 143],\n",
       "         [183, 143, 141],\n",
       "         ...,\n",
       "         [159, 113, 113],\n",
       "         [157, 109, 105],\n",
       "         [156, 107, 102]],\n",
       " \n",
       "        ...,\n",
       " \n",
       "        [[136, 117, 119],\n",
       "         [136, 117, 119],\n",
       "         [137, 118, 120],\n",
       "         ...,\n",
       "         [ 62,  52,  51],\n",
       "         [164, 152, 152],\n",
       "         [159, 147, 147]],\n",
       " \n",
       "        [[135, 116, 120],\n",
       "         [136, 117, 121],\n",
       "         [137, 118, 120],\n",
       "         ...,\n",
       "         [ 49,  39,  38],\n",
       "         [154, 142, 142],\n",
       "         [147, 135, 135]],\n",
       " \n",
       "        [[135, 116, 120],\n",
       "         [136, 117, 121],\n",
       "         [137, 118, 120],\n",
       "         ...,\n",
       "         [ 85,  75,  74],\n",
       "         [167, 155, 155],\n",
       "         [139, 127, 127]]], dtype=uint8), depth=array([[2182., 2181., 2181., ..., 1817., 1801., 1795.],\n",
       "        [2182., 2181., 2181., ..., 1815., 1807., 1791.],\n",
       "        [2185., 2179., 2179., ..., 1819., 1808., 1794.],\n",
       "        ...,\n",
       "        [ 926.,  932.,  935., ..., 1781., 1777., 1766.],\n",
       "        [ 926.,  932.,  935., ..., 1782., 1771., 1767.],\n",
       "        [ 925.,  931.,  937., ..., 1779., 1772., 1765.]])),\n",
       " 2139: CameraView(id=2139, rgb_filename='/Users/artonson/tmp/spsg/images/D7N2EKCX4Sj/color/2139.jpg', depth_filename='/Users/artonson/tmp/spsg/images/D7N2EKCX4Sj/depth/2139.png', extrinsics=array([[ 0.787847  , -0.0308043 , -0.615101  , -5.21134   ],\n",
       "        [ 0.615571  ,  0.00815322,  0.78804   ,  2.94423   ],\n",
       "        [-0.01926   , -0.999492  ,  0.0253853 , -1.78347   ],\n",
       "        [ 0.        ,  0.        ,  0.        ,  1.        ]]), intrinsics=array([[269.195,   0.   , 158.166,   0.   ],\n",
       "        [  0.   , 269.35 , 128.149,   0.   ],\n",
       "        [  0.   ,   0.   ,   1.   ,   0.   ],\n",
       "        [  0.   ,   0.   ,   0.   ,   1.   ]]), rgb=array([[[163, 113, 122],\n",
       "         [160, 110, 119],\n",
       "         [161, 112, 118],\n",
       "         ...,\n",
       "         [191,  97,  98],\n",
       "         [196, 102, 103],\n",
       "         [197, 103, 103]],\n",
       " \n",
       "        [[163, 113, 122],\n",
       "         [160, 110, 119],\n",
       "         [160, 111, 117],\n",
       "         ...,\n",
       "         [191,  97,  98],\n",
       "         [189,  95,  95],\n",
       "         [186,  92,  90]],\n",
       " \n",
       "        [[163, 113, 122],\n",
       "         [160, 110, 119],\n",
       "         [159, 110, 116],\n",
       "         ...,\n",
       "         [188,  93,  91],\n",
       "         [187,  92,  88],\n",
       "         [186,  91,  87]],\n",
       " \n",
       "        ...,\n",
       " \n",
       "        [[ 60,  53,  43],\n",
       "         [ 50,  43,  33],\n",
       "         [ 45,  38,  30],\n",
       "         ...,\n",
       "         [122, 114, 111],\n",
       "         [120, 112, 110],\n",
       "         [119, 111, 109]],\n",
       " \n",
       "        [[ 39,  32,  22],\n",
       "         [ 56,  49,  39],\n",
       "         [ 78,  71,  63],\n",
       "         ...,\n",
       "         [135, 126, 119],\n",
       "         [133, 124, 119],\n",
       "         [134, 125, 120]],\n",
       " \n",
       "        [[ 73,  66,  56],\n",
       "         [ 90,  83,  73],\n",
       "         [ 93,  86,  78],\n",
       "         ...,\n",
       "         [141, 131, 121],\n",
       "         [143, 132, 126],\n",
       "         [148, 137, 131]]], dtype=uint8), depth=array([[1822., 1825., 1827., ...,  552.,  552.,  550.],\n",
       "        [1821., 1826., 1826., ...,  552.,  551.,  550.],\n",
       "        [1822., 1826., 1826., ...,  553.,  550.,  549.],\n",
       "        ...,\n",
       "        [1773., 1778., 1784., ...,  535.,  534.,  532.],\n",
       "        [1772., 1780., 1785., ...,  548.,  547.,  537.],\n",
       "        [1773., 1777., 1782., ...,  547.,  546.,  546.]])),\n",
       " 3273: CameraView(id=3273, rgb_filename='/Users/artonson/tmp/spsg/images/D7N2EKCX4Sj/color/3273.jpg', depth_filename='/Users/artonson/tmp/spsg/images/D7N2EKCX4Sj/depth/3273.png', extrinsics=array([[ 8.12888e-01,  3.75593e-01, -4.45127e-01, -4.54035e+00],\n",
       "        [ 5.82403e-01, -5.29449e-01,  6.16838e-01,  2.27482e+00],\n",
       "        [-3.99177e-03, -7.60665e-01, -6.49129e-01, -1.76384e+00],\n",
       "        [ 0.00000e+00,  0.00000e+00,  0.00000e+00,  1.00000e+00]]), intrinsics=array([[269.082,   0.   , 159.661,   0.   ],\n",
       "        [  0.   , 269.135, 127.168,   0.   ],\n",
       "        [  0.   ,   0.   ,   1.   ,   0.   ],\n",
       "        [  0.   ,   0.   ,   0.   ,   1.   ]]), rgb=array([[[ 93,  72,  67],\n",
       "         [ 46,  25,  20],\n",
       "         [ 75,  54,  51],\n",
       "         ...,\n",
       "         [ 95,  84,  78],\n",
       "         [ 96,  85,  79],\n",
       "         [ 96,  85,  79]],\n",
       " \n",
       "        [[107,  87,  80],\n",
       "         [ 81,  61,  54],\n",
       "         [ 64,  43,  38],\n",
       "         ...,\n",
       "         [ 95,  85,  76],\n",
       "         [ 96,  85,  79],\n",
       "         [ 97,  87,  78]],\n",
       " \n",
       "        [[118,  98,  89],\n",
       "         [116,  96,  87],\n",
       "         [ 58,  38,  31],\n",
       "         ...,\n",
       "         [ 97,  84,  75],\n",
       "         [ 98,  85,  77],\n",
       "         [ 99,  86,  77]],\n",
       " \n",
       "        ...,\n",
       " \n",
       "        [[202, 189, 198],\n",
       "         [202, 189, 198],\n",
       "         [203, 190, 199],\n",
       "         ...,\n",
       "         [ 62,  49,  58],\n",
       "         [ 63,  50,  59],\n",
       "         [ 63,  50,  59]],\n",
       " \n",
       "        [[201, 188, 197],\n",
       "         [202, 189, 198],\n",
       "         [203, 190, 199],\n",
       "         ...,\n",
       "         [ 62,  49,  58],\n",
       "         [ 63,  50,  59],\n",
       "         [ 63,  50,  59]],\n",
       " \n",
       "        [[201, 188, 197],\n",
       "         [202, 189, 198],\n",
       "         [203, 190, 199],\n",
       "         ...,\n",
       "         [ 65,  52,  61],\n",
       "         [ 66,  53,  62],\n",
       "         [ 66,  53,  62]]], dtype=uint8), depth=array([[   0.,    0.,    0., ...,    0.,    0.,    0.],\n",
       "        [   0.,    0.,    0., ...,    0.,    0.,    0.],\n",
       "        [   0.,    0.,    0., ...,    0.,    0.,    0.],\n",
       "        ...,\n",
       "        [   0., 1429., 1434., ..., 1584., 1585., 1584.],\n",
       "        [   0., 1430., 1435., ..., 1578., 1578., 1578.],\n",
       "        [   0., 1435., 1441., ..., 1574., 1574., 1575.]])),\n",
       " 3740: CameraView(id=3740, rgb_filename='/Users/artonson/tmp/spsg/images/D7N2EKCX4Sj/color/3740.jpg', depth_filename='/Users/artonson/tmp/spsg/images/D7N2EKCX4Sj/depth/3740.png', extrinsics=array([[-0.140184 ,  0.636158 , -0.758716 , -5.22243  ],\n",
       "        [ 0.989894 ,  0.106555 , -0.0935537,  2.93917  ],\n",
       "        [ 0.0213308, -0.764165 , -0.644666 , -1.74985  ],\n",
       "        [ 0.       ,  0.       ,  0.       ,  1.       ]]), intrinsics=array([[269.082,   0.   , 159.661,   0.   ],\n",
       "        [  0.   , 269.135, 127.168,   0.   ],\n",
       "        [  0.   ,   0.   ,   1.   ,   0.   ],\n",
       "        [  0.   ,   0.   ,   0.   ,   1.   ]]), rgb=array([[[181, 147, 145],\n",
       "         [181, 147, 145],\n",
       "         [180, 146, 144],\n",
       "         ...,\n",
       "         [155, 143, 127],\n",
       "         [153, 144, 129],\n",
       "         [149, 142, 126]],\n",
       " \n",
       "        [[180, 146, 144],\n",
       "         [180, 146, 144],\n",
       "         [179, 145, 143],\n",
       "         ...,\n",
       "         [153, 141, 125],\n",
       "         [159, 150, 135],\n",
       "         [160, 153, 137]],\n",
       " \n",
       "        [[178, 144, 142],\n",
       "         [178, 144, 142],\n",
       "         [178, 144, 142],\n",
       "         ...,\n",
       "         [149, 136, 120],\n",
       "         [157, 145, 131],\n",
       "         [159, 149, 137]],\n",
       " \n",
       "        ...,\n",
       " \n",
       "        [[201, 178, 188],\n",
       "         [202, 179, 189],\n",
       "         [202, 181, 190],\n",
       "         ...,\n",
       "         [182, 159, 167],\n",
       "         [182, 159, 167],\n",
       "         [182, 159, 167]],\n",
       " \n",
       "        [[200, 177, 187],\n",
       "         [201, 178, 188],\n",
       "         [201, 180, 189],\n",
       "         ...,\n",
       "         [181, 158, 166],\n",
       "         [181, 158, 166],\n",
       "         [181, 158, 166]],\n",
       " \n",
       "        [[200, 177, 187],\n",
       "         [200, 177, 187],\n",
       "         [201, 180, 189],\n",
       "         ...,\n",
       "         [180, 157, 165],\n",
       "         [180, 157, 165],\n",
       "         [180, 157, 165]]], dtype=uint8), depth=array([[   0.,    0.,    0., ...,    0.,    0.,    0.],\n",
       "        [   0.,    0.,    0., ...,    0.,    0.,    0.],\n",
       "        [   0.,    0.,    0., ...,    0.,    0.,    0.],\n",
       "        ...,\n",
       "        [   0., 1047., 1046., ...,  943.,  938.,    0.],\n",
       "        [   0., 1055., 1049., ...,  944.,  934.,    0.],\n",
       "        [   0., 1059., 1060., ...,  942.,  937.,    0.]])),\n",
       " 3741: CameraView(id=3741, rgb_filename='/Users/artonson/tmp/spsg/images/D7N2EKCX4Sj/color/3741.jpg', depth_filename='/Users/artonson/tmp/spsg/images/D7N2EKCX4Sj/depth/3741.png', extrinsics=array([[ 0.786935 ,  0.391887 , -0.476608 , -5.21698  ],\n",
       "        [ 0.616872 , -0.517331 ,  0.593158 ,  2.95266  ],\n",
       "        [-0.0141133, -0.760784 , -0.648849 , -1.74993  ],\n",
       "        [ 0.       ,  0.       ,  0.       ,  1.       ]]), intrinsics=array([[269.082,   0.   , 159.661,   0.   ],\n",
       "        [  0.   , 269.135, 127.168,   0.   ],\n",
       "        [  0.   ,   0.   ,   1.   ,   0.   ],\n",
       "        [  0.   ,   0.   ,   0.   ,   1.   ]]), rgb=array([[[190, 163, 182],\n",
       "         [206, 179, 196],\n",
       "         [193, 166, 183],\n",
       "         ...,\n",
       "         [ 32,  31,  26],\n",
       "         [ 32,  31,  26],\n",
       "         [ 32,  31,  26]],\n",
       " \n",
       "        [[188, 161, 180],\n",
       "         [206, 179, 196],\n",
       "         [196, 169, 184],\n",
       "         ...,\n",
       "         [ 32,  31,  26],\n",
       "         [ 32,  31,  26],\n",
       "         [ 32,  31,  26]],\n",
       " \n",
       "        [[204, 177, 194],\n",
       "         [203, 176, 193],\n",
       "         [191, 164, 179],\n",
       "         ...,\n",
       "         [ 32,  31,  26],\n",
       "         [ 32,  31,  26],\n",
       "         [ 32,  31,  26]],\n",
       " \n",
       "        ...,\n",
       " \n",
       "        [[215, 195, 196],\n",
       "         [217, 197, 198],\n",
       "         [219, 199, 200],\n",
       "         ...,\n",
       "         [195, 194, 199],\n",
       "         [203, 203, 205],\n",
       "         [208, 208, 210]],\n",
       " \n",
       "        [[217, 198, 200],\n",
       "         [217, 198, 200],\n",
       "         [217, 198, 200],\n",
       "         ...,\n",
       "         [185, 184, 189],\n",
       "         [190, 190, 192],\n",
       "         [194, 194, 196]],\n",
       " \n",
       "        [[220, 201, 203],\n",
       "         [218, 199, 201],\n",
       "         [216, 197, 199],\n",
       "         ...,\n",
       "         [183, 182, 187],\n",
       "         [187, 187, 189],\n",
       "         [191, 191, 193]]], dtype=uint8), depth=array([[   0.,    0.,    0., ...,    0.,    0.,    0.],\n",
       "        [   0.,    0.,    0., ...,    0.,    0.,    0.],\n",
       "        [   0.,    0.,    0., ...,    0.,    0.,    0.],\n",
       "        ...,\n",
       "        [1592., 1592., 1592., ...,  740.,  741.,    0.],\n",
       "        [1590., 1588., 1585., ...,  739.,  739.,    0.],\n",
       "        [1584., 1580., 1581., ...,  737.,  737.,    0.]])),\n",
       " 3742: CameraView(id=3742, rgb_filename='/Users/artonson/tmp/spsg/images/D7N2EKCX4Sj/color/3742.jpg', depth_filename='/Users/artonson/tmp/spsg/images/D7N2EKCX4Sj/depth/3742.png', extrinsics=array([[ 0.927389 , -0.270181 ,  0.258745 , -5.20258  ],\n",
       "        [-0.373104 , -0.617754 ,  0.692222 ,  2.95468  ],\n",
       "        [-0.0271841, -0.738499 , -0.673704 , -1.75042  ],\n",
       "        [ 0.       ,  0.       ,  0.       ,  1.       ]]), intrinsics=array([[269.082,   0.   , 159.661,   0.   ],\n",
       "        [  0.   , 269.135, 127.168,   0.   ],\n",
       "        [  0.   ,   0.   ,   1.   ,   0.   ],\n",
       "        [  0.   ,   0.   ,   0.   ,   1.   ]]), rgb=array([[[ 27,  26,  24],\n",
       "         [ 27,  26,  24],\n",
       "         [ 27,  26,  24],\n",
       "         ...,\n",
       "         [166, 141, 137],\n",
       "         [166, 141, 136],\n",
       "         [166, 141, 136]],\n",
       " \n",
       "        [[ 27,  26,  24],\n",
       "         [ 27,  26,  24],\n",
       "         [ 27,  26,  24],\n",
       "         ...,\n",
       "         [166, 141, 136],\n",
       "         [166, 141, 136],\n",
       "         [165, 140, 135]],\n",
       " \n",
       "        [[ 27,  26,  24],\n",
       "         [ 27,  26,  24],\n",
       "         [ 27,  26,  24],\n",
       "         ...,\n",
       "         [165, 140, 135],\n",
       "         [167, 139, 135],\n",
       "         [165, 138, 131]],\n",
       " \n",
       "        ...,\n",
       " \n",
       "        [[ 76,  70,  80],\n",
       "         [ 77,  71,  81],\n",
       "         [ 77,  71,  81],\n",
       "         ...,\n",
       "         [  5,   4,   2],\n",
       "         [  5,   4,   2],\n",
       "         [  5,   4,   2]],\n",
       " \n",
       "        [[ 80,  74,  84],\n",
       "         [ 82,  76,  86],\n",
       "         [ 81,  75,  85],\n",
       "         ...,\n",
       "         [  4,   3,   1],\n",
       "         [  4,   3,   1],\n",
       "         [  4,   3,   1]],\n",
       " \n",
       "        [[ 81,  75,  85],\n",
       "         [ 84,  78,  88],\n",
       "         [ 84,  78,  88],\n",
       "         ...,\n",
       "         [  4,   3,   1],\n",
       "         [  4,   3,   1],\n",
       "         [  4,   3,   1]]], dtype=uint8), depth=array([[   0.,    0.,    0., ...,    0.,    0.,    0.],\n",
       "        [   0.,    0.,    0., ...,    0.,    0.,    0.],\n",
       "        [   0.,    0.,    0., ...,    0.,    0.,    0.],\n",
       "        ...,\n",
       "        [   0.,  826.,  826., ..., 1494., 1487., 1480.],\n",
       "        [   0.,    0.,  825., ..., 1494., 1487., 1480.],\n",
       "        [   0.,    0.,  823., ..., 1497., 1490., 1484.]]))}"
      ]
     },
     "execution_count": 244,
     "metadata": {},
     "output_type": "execute_result"
    }
   ],
   "source": [
    "paths.camera_views"
   ]
  },
  {
   "cell_type": "code",
   "execution_count": 245,
   "id": "8c3a18b4",
   "metadata": {},
   "outputs": [
    {
     "data": {
      "text/plain": [
       "<matplotlib.image.AxesImage at 0x14cb2cb80>"
      ]
     },
     "execution_count": 245,
     "metadata": {},
     "output_type": "execute_result"
    },
    {
     "data": {
      "image/png": "[encoded data removed]",
      "text/plain": [
       "<Figure size 432x288 with 1 Axes>"
      ]
     },
     "metadata": {
      "needs_background": "light"
     },
     "output_type": "display_data"
    }
   ],
   "source": [
    "view = paths.camera_views[537]\n",
    "plt.imshow(view.rgb)"
   ]
  },
  {
   "cell_type": "code",
   "execution_count": 246,
   "id": "21b3bd3c",
   "metadata": {},
   "outputs": [
    {
     "data": {
      "application/vnd.jupyter.widget-view+json": {
       "model_id": "4372d9d35ebd4d5c9f9abf4772dc8612",
       "version_major": 2,
       "version_minor": 0
      },
      "text/plain": [
       "Output()"
      ]
     },
     "metadata": {},
     "output_type": "display_data"
    }
   ],
   "source": [
    "_ = display_3d(\n",
    "    paths._data,\n",
    "#     full_volume,\n",
    "#     chunk_volume,\n",
    "#     view,\n",
    "    height=1024\n",
    ")"
   ]
  },
  {
   "cell_type": "code",
   "execution_count": null,
   "id": "d089126b",
   "metadata": {},
   "outputs": [],
   "source": []
  },
  {
   "cell_type": "code",
   "execution_count": 36,
   "id": "2fdda70c",
   "metadata": {},
   "outputs": [
    {
     "data": {
      "text/plain": [
       "'1'"
      ]
     },
     "execution_count": 36,
     "metadata": {},
     "output_type": "execute_result"
    }
   ],
   "source": [
    "paths.chunk_volumes[0].id"
   ]
  },
  {
   "cell_type": "code",
   "execution_count": 37,
   "id": "fce1a48e",
   "metadata": {},
   "outputs": [
    {
     "name": "stderr",
     "output_type": "stream",
     "text": [
      "/Users/artonson/.pyenv/versions/3.8.6/envs/scannetpp-3.8.6/lib/python3.8/site-packages/k3d/objects.py:1292: UserWarning: wrong dtype: bool ([<class 'numpy.float16'>, <class 'numpy.float32'>] required)\n",
      "  warnings.warn(\"wrong dtype: %s (%s required)\" % (actual, required))\n"
     ]
    },
    {
     "data": {
      "application/vnd.jupyter.widget-view+json": {
       "model_id": "7db60ab496f74c71907764e780d95d5e",
       "version_major": 2,
       "version_minor": 0
      },
      "text/plain": [
       "Output()"
      ]
     },
     "metadata": {},
     "output_type": "display_data"
    }
   ],
   "source": [
    "_ = display_3d(\n",
    "    VolumePlottable(\n",
    "    sdf < 0.1)\n",
    ")"
   ]
  },
  {
   "cell_type": "code",
   "execution_count": null,
   "id": "18fc7707",
   "metadata": {},
   "outputs": [],
   "source": []
  },
  {
   "cell_type": "code",
   "execution_count": null,
   "id": "a124fb65",
   "metadata": {},
   "outputs": [],
   "source": []
  },
  {
   "cell_type": "code",
   "execution_count": null,
   "id": "5ba3ee99",
   "metadata": {},
   "outputs": [],
   "source": []
  },
  {
   "cell_type": "code",
   "execution_count": null,
   "id": "6da9cd46",
   "metadata": {},
   "outputs": [],
   "source": [
    "[view.extrinsics for view in paths.camera_views]"
   ]
  },
  {
   "cell_type": "code",
   "execution_count": null,
   "id": "0a360605",
   "metadata": {},
   "outputs": [],
   "source": [
    "_ = display_3d(\n",
    "    PointsPlottable(\n",
    "        points=tt.transform_points(\n",
    "            full_volume.room_locs[room_mask], full_volume.room_transform),\n",
    "        point_colors=rgb_to_packed_colors(colors[room_mask, 0], colors[room_mask, 1], colors[room_mask, 2]),\n",
    "        point_size=100.0,),\n",
    "    *[CameraPlottable(\n",
    "        CameraPose(view.extrinsics),\n",
    "        line_length=1000.0,\n",
    "        line_width=10.0) for view in paths.camera_views],\n",
    "    height=1024,\n",
    ")"
   ]
  },
  {
   "cell_type": "code",
   "execution_count": null,
   "id": "361dde63",
   "metadata": {},
   "outputs": [],
   "source": [
    "tt.transform_points(\n",
    "            full_volume.room_locs[room_mask], full_volume.room_transform)"
   ]
  },
  {
   "cell_type": "code",
   "execution_count": null,
   "id": "ef840d88",
   "metadata": {},
   "outputs": [],
   "source": []
  },
  {
   "cell_type": "code",
   "execution_count": null,
   "id": "c644b526",
   "metadata": {},
   "outputs": [],
   "source": [
    "_ = display_3d(\n",
    "    full_volume\n",
    ")"
   ]
  },
  {
   "cell_type": "code",
   "execution_count": null,
   "id": "95ebc3dd",
   "metadata": {},
   "outputs": [],
   "source": []
  },
  {
   "cell_type": "code",
   "execution_count": null,
   "id": "d3551d0f",
   "metadata": {},
   "outputs": [],
   "source": [
    "from contrib.plotting import *\n",
    "from contrib.sdf_reader import load_sdf"
   ]
  },
  {
   "cell_type": "code",
   "execution_count": null,
   "id": "4c4671a6",
   "metadata": {},
   "outputs": [],
   "source": [
    "@dataclass\n",
    "class VolumePlottable(Plottable):\n",
    "    volume: np.array\n",
    "    color_map: str = 'jet'\n",
    "    order: str = 'xyz'\n",
    "    interpolation: bool = False\n",
    "    model_matrix: np.array = None\n",
    "    \n",
    "    def plot(self, k3d_plot):\n",
    "        if None is self.volume:\n",
    "            return\n",
    "        volume = self.volume if self.order == 'xyz' else np.transpose(self.volume, (2, 1, 0))\n",
    "        args = dict(\n",
    "            volume=volume,\n",
    "            interpolation=self.interpolation,\n",
    "            model_matrix=self.model_matrix\n",
    "        )\n",
    "        assert None is not self.color_map, 'colormap must be specified'\n",
    "#         if isinstance(self.color_map, str):\n",
    "#             self.color_map = getattr(k3d.colormaps.matplotlib_color_maps, self.color_map)\n",
    "#         color_map = k3d.helpers.map_colors(\n",
    "#             np.arange(0, 255), self.color_map, (0, 255)\n",
    "#         ).astype(np.uint32)\n",
    "#         args['color_map'] = self.color_map\n",
    "\n",
    "        k3d_plot += k3d.volume(**args)\n"
   ]
  },
  {
   "cell_type": "code",
   "execution_count": null,
   "id": "b38c983b",
   "metadata": {},
   "outputs": [],
   "source": []
  },
  {
   "cell_type": "code",
   "execution_count": null,
   "id": "1e4cbb41",
   "metadata": {},
   "outputs": [],
   "source": [
    "from src.sdf_reader import load_sdf\n",
    "sdf, sdf_transform, known, colors = load_sdf(\n",
    "    file='/Users/artonson/tmp/spsg/data-geo-color/D7N2EKCX4Sj_room9__cmp__0.sdf',\n",
    "    load_sparse=False,\n",
    "    load_known=False,\n",
    "    load_colors=True,\n",
    "    color_file=None)\n",
    "sdf[sdf==-np.inf] = np.inf"
   ]
  },
  {
   "cell_type": "code",
   "execution_count": null,
   "id": "1039f5aa",
   "metadata": {
    "scrolled": false
   },
   "outputs": [],
   "source": [
    "from src.plotting import Plottable, VolumePlottable, PointsPlottable, \\\n",
    "    CameraPlottable, CameraFrustumPlottable\n",
    "\n",
    "_ = display_3d(\n",
    "    VolumePlottable(\n",
    "        sdf < .01,\n",
    "        color_map='jet_r',\n",
    "    ),\n",
    "    height=1024,\n",
    ")"
   ]
  },
  {
   "cell_type": "code",
   "execution_count": null,
   "id": "313d903c",
   "metadata": {},
   "outputs": [],
   "source": []
  },
  {
   "cell_type": "code",
   "execution_count": null,
   "id": "16aaaec5",
   "metadata": {},
   "outputs": [],
   "source": [
    "(room_locs, room_sdf), room_shape, room_transform, room_known, room_colors = load_sdf(\n",
    "    file='/Users/artonson/tmp/spsg/mp_sdf_2cm_input/D7N2EKCX4Sj_room9__0__.sdf',\n",
    "    load_sparse=True, \n",
    "    load_known=False,\n",
    "    load_colors=True, \n",
    "    color_file='/Users/artonson/tmp/spsg/mp_sdf_2cm_input/D7N2EKCX4Sj_room9__0__.colors')"
   ]
  },
  {
   "cell_type": "code",
   "execution_count": null,
   "id": "1d32a9ea",
   "metadata": {},
   "outputs": [],
   "source": [
    "room = np.ones(room_shape, dtype=np.float32) * np.inf"
   ]
  },
  {
   "cell_type": "code",
   "execution_count": null,
   "id": "a04cf640",
   "metadata": {},
   "outputs": [],
   "source": [
    "room[room_locs[:, 0], room_locs[:, 1], room_locs[:, 2]] = room_sdf"
   ]
  },
  {
   "cell_type": "code",
   "execution_count": null,
   "id": "d204cd9e",
   "metadata": {},
   "outputs": [],
   "source": [
    "import k3d\n",
    "k3d.volume?"
   ]
  },
  {
   "cell_type": "code",
   "execution_count": null,
   "id": "de46b879",
   "metadata": {},
   "outputs": [],
   "source": [
    "_ = display_3d(\n",
    "    VolumePlottable(\n",
    "        room < .01,\n",
    "        color_map='jet_r',\n",
    "        interpolation=False,\n",
    "        model_matrix=room_transform,\n",
    "    ),\n",
    "#     VolumePlottable(\n",
    "#         sdf < .01,\n",
    "#         color_map='jet',\n",
    "#         interpolation=False,\n",
    "#         model_matrix=sdf_transform,\n",
    "#     ),\n",
    "    height=1024,\n",
    ")"
   ]
  },
  {
   "cell_type": "code",
   "execution_count": null,
   "id": "57d0cfc1",
   "metadata": {},
   "outputs": [],
   "source": [
    "import glob\n",
    "\n",
    "from PIL import Image as PilImage"
   ]
  },
  {
   "cell_type": "code",
   "execution_count": null,
   "id": "89327570",
   "metadata": {},
   "outputs": [],
   "source": [
    "df_indexes_by_slice = {}\n",
    "for filename in glob.glob('/Users/artonson/tmp/spsg/data-frames/D7N2EKCX4Sj_room9__cmp__*.txt'):\n",
    "    scene_room, dtype, s = os.path.basename(filename).split('__')\n",
    "    s = int(os.path.splitext(s)[0])\n",
    "    df_indexes = np.loadtxt(filename, dtype=np.int_)\n",
    "    df_indexes_by_slice[s] = df_indexes"
   ]
  },
  {
   "cell_type": "code",
   "execution_count": null,
   "id": "00006759",
   "metadata": {},
   "outputs": [],
   "source": []
  },
  {
   "cell_type": "code",
   "execution_count": null,
   "id": "069e4727",
   "metadata": {},
   "outputs": [],
   "source": [
    "camera_params = np.loadtxt('/Users/artonson/tmp/spsg/images/D7N2EKCX4Sj/camera/0.txt')\n",
    "extrinsics, intrinsics = camera_params[:4], camera_params[4:]\n",
    "\n",
    "image = PilImage.open('/Users/artonson/tmp/spsg/images/D7N2EKCX4Sj/color/1.jpg')\n",
    "image_array = np.asarray(image)"
   ]
  },
  {
   "cell_type": "code",
   "execution_count": null,
   "id": "a5b4f776",
   "metadata": {},
   "outputs": [],
   "source": [
    "image = PilImage.open('/Users/artonson/tmp/spsg/images/D7N2EKCX4Sj/depth/1.png')\n",
    "image_array = np.asarray(image, dtype=np.float_)"
   ]
  },
  {
   "cell_type": "code",
   "execution_count": null,
   "id": "9234353b",
   "metadata": {},
   "outputs": [],
   "source": [
    "image_to_display = image_array.copy()\n",
    "background_idx = image_to_display == 0.\n",
    "image_to_display[background_idx] = np.nan\n",
    "\n",
    "plt.imshow(image_to_display)"
   ]
  },
  {
   "cell_type": "code",
   "execution_count": null,
   "id": "977f9004",
   "metadata": {},
   "outputs": [],
   "source": []
  },
  {
   "cell_type": "code",
   "execution_count": null,
   "id": "91772e61",
   "metadata": {},
   "outputs": [],
   "source": [
    "for camera_idx in df_indexes_by_slice[0]:\n",
    "    "
   ]
  },
  {
   "cell_type": "code",
   "execution_count": null,
   "id": "f9526bf4",
   "metadata": {},
   "outputs": [],
   "source": []
  },
  {
   "cell_type": "code",
   "execution_count": null,
   "id": "7b7c5f2e",
   "metadata": {},
   "outputs": [],
   "source": [
    "class VoxelChunkData:\n",
    "    def __init__():\n",
    "        pass\n",
    "    \n",
    "    def _load():\n",
    "        pass\n",
    "\n",
    "    def load():\n",
    "        self._load()\n",
    "    \n",
    "    def compute_voxel_visibility():\n",
    "        pass"
   ]
  },
  {
   "cell_type": "code",
   "execution_count": null,
   "id": "1acb87dd",
   "metadata": {},
   "outputs": [],
   "source": []
  },
  {
   "cell_type": "code",
   "execution_count": null,
   "id": "e880007a",
   "metadata": {},
   "outputs": [],
   "source": []
  }
 ],
 "metadata": {
  "kernelspec": {
   "display_name": "Python 3 (ipykernel)",
   "language": "python",
   "name": "python3"
  },
  "language_info": {
   "codemirror_mode": {
    "name": "ipython",
    "version": 3
   },
   "file_extension": ".py",
   "mimetype": "text/x-python",
   "name": "python",
   "nbconvert_exporter": "python",
   "pygments_lexer": "ipython3",
   "version": "3.8.6"
  }
 },
 "nbformat": 4,
 "nbformat_minor": 5
}
