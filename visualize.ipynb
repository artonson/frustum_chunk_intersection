{
 "cells": [
  {
   "cell_type": "code",
   "execution_count": 1,
   "id": "117015fb",
   "metadata": {},
   "outputs": [
    {
     "data": {
      "text/html": [
       "<style>.container { width:80% !important; }</style>"
      ],
      "text/plain": [
       "<IPython.core.display.HTML object>"
      ]
     },
     "metadata": {},
     "output_type": "display_data"
    }
   ],
   "source": [
    "%load_ext autoreload\n",
    "%autoreload 2\n",
    "\n",
    "from IPython.display import display, HTML\n",
    "display(HTML(\"<style>.container { width:80% !important; }</style>\"))"
   ]
  },
  {
   "cell_type": "code",
   "execution_count": 2,
   "id": "63daa094",
   "metadata": {},
   "outputs": [],
   "source": [
    "# python3 select_view.py --data-dir DDD --scene SSSS --chunk CCC --overlap 0.5 --output-dir XXX"
   ]
  },
  {
   "cell_type": "code",
   "execution_count": 3,
   "id": "900e039e",
   "metadata": {},
   "outputs": [],
   "source": [
    "import os\n",
    "import sys\n",
    "sys.path.append('/Users/artonson/repos/frustum_chunk_intersection')"
   ]
  },
  {
   "cell_type": "code",
   "execution_count": 4,
   "id": "99b0d8d1",
   "metadata": {},
   "outputs": [],
   "source": [
    "import matplotlib.pyplot as plt\n",
    "import numpy as np\n",
    "import trimesh.transformations as tt"
   ]
  },
  {
   "cell_type": "code",
   "execution_count": 5,
   "id": "58280add",
   "metadata": {},
   "outputs": [],
   "source": [
    "from src.voxel_chunk_data import VoxelDataPaths\n",
    "from src.plotting import (\n",
    "    display_3d, PointsPlottable, CameraPlottable, VolumePlottable,\n",
    "    CameraFrustumPlottable)\n",
    "from src.colors import rgb_to_packed_colors\n",
    "from src.camera_pose import CameraPose\n"
   ]
  },
  {
   "cell_type": "code",
   "execution_count": 7,
   "id": "7516cecb",
   "metadata": {},
   "outputs": [],
   "source": [
    "paths = VoxelDataPaths(\n",
    "    data_root='/Users/artonson/tmp/spsg/',\n",
    "    scene_id='D7N2EKCX4Sj',\n",
    "    room_id='9',\n",
    "    chunk_id='*',\n",
    "    fraction=0.6)\n",
    "\n",
    "paths.CHUNK_VOLUMES_DIR = 'data-geo-color-128'\n",
    "\n",
    "paths.load()"
   ]
  },
  {
   "cell_type": "code",
   "execution_count": null,
   "id": "b98aec61",
   "metadata": {},
   "outputs": [],
   "source": [
    "paths.compute_voxel_visibility()"
   ]
  },
  {
   "cell_type": "code",
   "execution_count": 8,
   "id": "57e5b283",
   "metadata": {},
   "outputs": [],
   "source": [
    "full_volume = paths.full_volume\n",
    "full_volume.plot_type = 'points'\n",
    "\n",
    "for chunk_volume in paths.chunk_volumes:\n",
    "    chunk_volume.plot_type = 'points'\n",
    "    \n",
    "for view in paths.camera_views.values():\n",
    "    view.plot_type = 'axes'\n",
    "    view.line_length = 0.1"
   ]
  },
  {
   "cell_type": "code",
   "execution_count": 9,
   "id": "245fc825",
   "metadata": {},
   "outputs": [
    {
     "name": "stderr",
     "output_type": "stream",
     "text": [
      "/Users/artonson/.pyenv/versions/3.8.6/envs/scannetpp-3.8.6/lib/python3.8/site-packages/traittypes/traittypes.py:97: UserWarning: Given trait value dtype \"float64\" does not match required type \"float32\". A coerced copy has been created.\n",
      "  warnings.warn(\n"
     ]
    },
    {
     "data": {
      "application/vnd.jupyter.widget-view+json": {
       "model_id": "98fa8d5111024c809892e780e8b01206",
       "version_major": 2,
       "version_minor": 0
      },
      "text/plain": [
       "Output()"
      ]
     },
     "metadata": {},
     "output_type": "display_data"
    }
   ],
   "source": [
    " _ = display_3d(\n",
    "    paths._data,\n",
    "    height=1024\n",
    ")"
   ]
  },
  {
   "cell_type": "code",
   "execution_count": null,
   "id": "c92e202d",
   "metadata": {},
   "outputs": [],
   "source": [
    "# CameraFrustumPlottable(\n",
    "#     camera_pose=CameraPose(paths.camera_views[537].extrinsics),\n",
    "#     focal_length=paths.camera_views[537].intrinsics[0, 0],\n",
    "#     image_size=np.array([320, 256]),\n",
    "#     principal_point=paths.camera_views[537].intrinsics[[0, 1], 2],\n",
    "#     sensor_size=np.array([0.001, 0.00075])\n",
    "# )"
   ]
  },
  {
   "cell_type": "code",
   "execution_count": 18,
   "id": "33c51c22",
   "metadata": {
    "scrolled": false
   },
   "outputs": [
    {
     "data": {
      "application/vnd.jupyter.widget-view+json": {
       "model_id": "6d4befb9f0ee4d54b59fd67db21ddac6",
       "version_major": 2,
       "version_minor": 0
      },
      "text/plain": [
       "Output()"
      ]
     },
     "metadata": {},
     "output_type": "display_data"
    }
   ],
   "source": [
    " _ = display_3d(\n",
    "    chunk_volume,\n",
    "    height=1024\n",
    ")"
   ]
  },
  {
   "cell_type": "code",
   "execution_count": null,
   "id": "303cbb03",
   "metadata": {},
   "outputs": [],
   "source": []
  },
  {
   "cell_type": "code",
   "execution_count": null,
   "id": "e008e4b3",
   "metadata": {},
   "outputs": [],
   "source": []
  },
  {
   "cell_type": "code",
   "execution_count": null,
   "id": "06cd320e",
   "metadata": {},
   "outputs": [],
   "source": []
  },
  {
   "cell_type": "code",
   "execution_count": null,
   "id": "42ac6e21",
   "metadata": {},
   "outputs": [],
   "source": []
  },
  {
   "cell_type": "code",
   "execution_count": null,
   "id": "35523641",
   "metadata": {},
   "outputs": [],
   "source": [
    "paths.camera_views.keys()"
   ]
  },
  {
   "cell_type": "code",
   "execution_count": null,
   "id": "b9ac0e14",
   "metadata": {},
   "outputs": [],
   "source": [
    "paths.camera_views[537].rgb.shape"
   ]
  },
  {
   "cell_type": "code",
   "execution_count": null,
   "id": "dcef9c18",
   "metadata": {},
   "outputs": [],
   "source": [
    "view = paths.camera_views[3273]\n",
    "plt.imshow(view.rgb)"
   ]
  },
  {
   "cell_type": "code",
   "execution_count": null,
   "id": "573a49b8",
   "metadata": {},
   "outputs": [],
   "source": [
    "frustum = CameraFrustum(view.extrinsics, [view.intrinsics, view.intrinsics])\n",
    "points = paths.full_volume.voxels_xyz\n",
    "mask = frustum.is_visible(points)"
   ]
  },
  {
   "cell_type": "code",
   "execution_count": null,
   "id": "d48d7331",
   "metadata": {},
   "outputs": [],
   "source": [
    "projected_points = tt.transform_points(\n",
    "    CameraPose(view.extrinsics).world_to_camera(points), \n",
    "    view.intrinsics)"
   ]
  },
  {
   "cell_type": "code",
   "execution_count": null,
   "id": "2a186acb",
   "metadata": {},
   "outputs": [],
   "source": [
    "view.intrinsics"
   ]
  },
  {
   "cell_type": "code",
   "execution_count": null,
   "id": "018746d1",
   "metadata": {},
   "outputs": [],
   "source": [
    "mask = (projected_points[:, 0] > 0) & (projected_points[:, 0] < 320) \\\n",
    "    & (projected_points[:, 1] > 0) & (projected_points[:, 1] < 256) \\\n",
    "    & (projected_points[:, 2] > 0)"
   ]
  },
  {
   "cell_type": "code",
   "execution_count": null,
   "id": "995a30e8",
   "metadata": {},
   "outputs": [],
   "source": [
    "points[mask].shape"
   ]
  },
  {
   "cell_type": "code",
   "execution_count": null,
   "id": "67c0b997",
   "metadata": {
    "scrolled": false
   },
   "outputs": [],
   "source": [
    " _ = display_3d(\n",
    "    PointsPlottable(points, point_size=0.02),\n",
    "     PointsPlottable(\n",
    "         points[mask], \n",
    "         point_size=0.02,\n",
    "         point_color=0xff0000),\n",
    "    CameraFrustumPlottable(\n",
    "        camera_pose=CameraPose(paths.camera_views[3273].extrinsics),\n",
    "        focal_length=[paths.camera_views[3273].intrinsics[0, 0]],\n",
    "        image_size=np.array([320, 256]),\n",
    "        principal_point=paths.camera_views[3273].intrinsics[[0, 1], 2],\n",
    "        sensor_size=np.array([320, 256]),\n",
    "        line_length=0.01,\n",
    "    ),\n",
    "    height=1024\n",
    ")"
   ]
  },
  {
   "cell_type": "code",
   "execution_count": null,
   "id": "0dabdd0c",
   "metadata": {},
   "outputs": [],
   "source": []
  },
  {
   "cell_type": "code",
   "execution_count": null,
   "id": "7208d756",
   "metadata": {},
   "outputs": [],
   "source": []
  },
  {
   "cell_type": "code",
   "execution_count": null,
   "id": "563230d2",
   "metadata": {},
   "outputs": [],
   "source": [
    " _ = display_3d(\n",
    "    paths._data,\n",
    "#     full_volume,\n",
    "#     chunk_volume,\n",
    "#     view,\n",
    "    CameraFrustumPlottable(\n",
    "        camera_pose=CameraPose(paths.camera_views[3273].extrinsics),\n",
    "        focal_length=[paths.camera_views[3273].intrinsics[0, 0]],\n",
    "        image_size=np.array([320, 256]),\n",
    "        principal_point=paths.camera_views[3273].intrinsics[[0, 1], 2],\n",
    "        sensor_size=np.array([320, 256]),\n",
    "        line_length=0.01,\n",
    "    ),\n",
    "    height=1024\n",
    ")"
   ]
  },
  {
   "cell_type": "code",
   "execution_count": null,
   "id": "5dbfd471",
   "metadata": {},
   "outputs": [],
   "source": []
  },
  {
   "cell_type": "code",
   "execution_count": null,
   "id": "5d054418",
   "metadata": {},
   "outputs": [],
   "source": [
    "paths.chunk_volumes[0].id"
   ]
  },
  {
   "cell_type": "code",
   "execution_count": null,
   "id": "3760b39b",
   "metadata": {},
   "outputs": [],
   "source": [
    "_ = display_3d(\n",
    "    VolumePlottable(\n",
    "    sdf < 0.1)\n",
    ")"
   ]
  },
  {
   "cell_type": "code",
   "execution_count": null,
   "id": "b4fc64e6",
   "metadata": {},
   "outputs": [],
   "source": []
  },
  {
   "cell_type": "code",
   "execution_count": null,
   "id": "533d232c",
   "metadata": {},
   "outputs": [],
   "source": []
  },
  {
   "cell_type": "code",
   "execution_count": null,
   "id": "5ba3ee99",
   "metadata": {},
   "outputs": [],
   "source": []
  },
  {
   "cell_type": "code",
   "execution_count": null,
   "id": "6da9cd46",
   "metadata": {},
   "outputs": [],
   "source": [
    "[view.extrinsics for view in paths.camera_views]"
   ]
  },
  {
   "cell_type": "code",
   "execution_count": null,
   "id": "0a360605",
   "metadata": {},
   "outputs": [],
   "source": [
    "_ = display_3d(\n",
    "    PointsPlottable(\n",
    "        points=tt.transform_points(\n",
    "            full_volume.room_locs[room_mask], full_volume.room_transform),\n",
    "        point_colors=rgb_to_packed_colors(colors[room_mask, 0], colors[room_mask, 1], colors[room_mask, 2]),\n",
    "        point_size=100.0,),\n",
    "    *[CameraPlottable(\n",
    "        CameraPose(view.extrinsics),\n",
    "        line_length=1000.0,\n",
    "        line_width=10.0) for view in paths.camera_views],\n",
    "    height=1024,\n",
    ")"
   ]
  },
  {
   "cell_type": "code",
   "execution_count": null,
   "id": "361dde63",
   "metadata": {},
   "outputs": [],
   "source": [
    "tt.transform_points(\n",
    "            full_volume.room_locs[room_mask], full_volume.room_transform)"
   ]
  },
  {
   "cell_type": "code",
   "execution_count": null,
   "id": "ef840d88",
   "metadata": {},
   "outputs": [],
   "source": []
  },
  {
   "cell_type": "code",
   "execution_count": null,
   "id": "c644b526",
   "metadata": {},
   "outputs": [],
   "source": [
    "_ = display_3d(\n",
    "    full_volume\n",
    ")"
   ]
  },
  {
   "cell_type": "code",
   "execution_count": null,
   "id": "95ebc3dd",
   "metadata": {},
   "outputs": [],
   "source": []
  },
  {
   "cell_type": "code",
   "execution_count": null,
   "id": "d3551d0f",
   "metadata": {},
   "outputs": [],
   "source": [
    "from contrib.plotting import *\n",
    "from contrib.sdf_reader import load_sdf"
   ]
  },
  {
   "cell_type": "code",
   "execution_count": null,
   "id": "4c4671a6",
   "metadata": {},
   "outputs": [],
   "source": [
    "@dataclass\n",
    "class VolumePlottable(Plottable):\n",
    "    volume: np.array\n",
    "    color_map: str = 'jet'\n",
    "    order: str = 'xyz'\n",
    "    interpolation: bool = False\n",
    "    model_matrix: np.array = None\n",
    "    \n",
    "    def plot(self, k3d_plot):\n",
    "        if None is self.volume:\n",
    "            return\n",
    "        volume = self.volume if self.order == 'xyz' else np.transpose(self.volume, (2, 1, 0))\n",
    "        args = dict(\n",
    "            volume=volume,\n",
    "            interpolation=self.interpolation,\n",
    "            model_matrix=self.model_matrix\n",
    "        )\n",
    "        assert None is not self.color_map, 'colormap must be specified'\n",
    "#         if isinstance(self.color_map, str):\n",
    "#             self.color_map = getattr(k3d.colormaps.matplotlib_color_maps, self.color_map)\n",
    "#         color_map = k3d.helpers.map_colors(\n",
    "#             np.arange(0, 255), self.color_map, (0, 255)\n",
    "#         ).astype(np.uint32)\n",
    "#         args['color_map'] = self.color_map\n",
    "\n",
    "        k3d_plot += k3d.volume(**args)\n"
   ]
  },
  {
   "cell_type": "code",
   "execution_count": null,
   "id": "b38c983b",
   "metadata": {},
   "outputs": [],
   "source": []
  },
  {
   "cell_type": "code",
   "execution_count": null,
   "id": "1e4cbb41",
   "metadata": {},
   "outputs": [],
   "source": [
    "from src.sdf_reader import load_sdf\n",
    "sdf, sdf_transform, known, colors = load_sdf(\n",
    "    file='/Users/artonson/tmp/spsg/data-geo-color/D7N2EKCX4Sj_room9__cmp__0.sdf',\n",
    "    load_sparse=False,\n",
    "    load_known=False,\n",
    "    load_colors=True,\n",
    "    color_file=None)\n",
    "sdf[sdf==-np.inf] = np.inf"
   ]
  },
  {
   "cell_type": "code",
   "execution_count": null,
   "id": "1039f5aa",
   "metadata": {
    "scrolled": false
   },
   "outputs": [],
   "source": [
    "from src.plotting import Plottable, VolumePlottable, PointsPlottable, \\\n",
    "    CameraPlottable, CameraFrustumPlottable\n",
    "\n",
    "_ = display_3d(\n",
    "    VolumePlottable(\n",
    "        sdf < .01,\n",
    "        color_map='jet_r',\n",
    "    ),\n",
    "    height=1024,\n",
    ")"
   ]
  },
  {
   "cell_type": "code",
   "execution_count": null,
   "id": "313d903c",
   "metadata": {},
   "outputs": [],
   "source": []
  },
  {
   "cell_type": "code",
   "execution_count": null,
   "id": "16aaaec5",
   "metadata": {},
   "outputs": [],
   "source": [
    "(room_locs, room_sdf), room_shape, room_transform, room_known, room_colors = load_sdf(\n",
    "    file='/Users/artonson/tmp/spsg/mp_sdf_2cm_input/D7N2EKCX4Sj_room9__0__.sdf',\n",
    "    load_sparse=True, \n",
    "    load_known=False,\n",
    "    load_colors=True, \n",
    "    color_file='/Users/artonson/tmp/spsg/mp_sdf_2cm_input/D7N2EKCX4Sj_room9__0__.colors')"
   ]
  },
  {
   "cell_type": "code",
   "execution_count": null,
   "id": "1d32a9ea",
   "metadata": {},
   "outputs": [],
   "source": [
    "room = np.ones(room_shape, dtype=np.float32) * np.inf"
   ]
  },
  {
   "cell_type": "code",
   "execution_count": null,
   "id": "a04cf640",
   "metadata": {},
   "outputs": [],
   "source": [
    "room[room_locs[:, 0], room_locs[:, 1], room_locs[:, 2]] = room_sdf"
   ]
  },
  {
   "cell_type": "code",
   "execution_count": null,
   "id": "d204cd9e",
   "metadata": {},
   "outputs": [],
   "source": [
    "import k3d\n",
    "k3d.volume?"
   ]
  },
  {
   "cell_type": "code",
   "execution_count": null,
   "id": "de46b879",
   "metadata": {},
   "outputs": [],
   "source": [
    "_ = display_3d(\n",
    "    VolumePlottable(\n",
    "        room < .01,\n",
    "        color_map='jet_r',\n",
    "        interpolation=False,\n",
    "        model_matrix=room_transform,\n",
    "    ),\n",
    "#     VolumePlottable(\n",
    "#         sdf < .01,\n",
    "#         color_map='jet',\n",
    "#         interpolation=False,\n",
    "#         model_matrix=sdf_transform,\n",
    "#     ),\n",
    "    height=1024,\n",
    ")"
   ]
  },
  {
   "cell_type": "code",
   "execution_count": null,
   "id": "57d0cfc1",
   "metadata": {},
   "outputs": [],
   "source": [
    "import glob\n",
    "\n",
    "from PIL import Image as PilImage"
   ]
  },
  {
   "cell_type": "code",
   "execution_count": null,
   "id": "89327570",
   "metadata": {},
   "outputs": [],
   "source": [
    "df_indexes_by_slice = {}\n",
    "for filename in glob.glob('/Users/artonson/tmp/spsg/data-frames/D7N2EKCX4Sj_room9__cmp__*.txt'):\n",
    "    scene_room, dtype, s = os.path.basename(filename).split('__')\n",
    "    s = int(os.path.splitext(s)[0])\n",
    "    df_indexes = np.loadtxt(filename, dtype=np.int_)\n",
    "    df_indexes_by_slice[s] = df_indexes"
   ]
  },
  {
   "cell_type": "code",
   "execution_count": null,
   "id": "00006759",
   "metadata": {},
   "outputs": [],
   "source": []
  },
  {
   "cell_type": "code",
   "execution_count": null,
   "id": "069e4727",
   "metadata": {},
   "outputs": [],
   "source": [
    "camera_params = np.loadtxt('/Users/artonson/tmp/spsg/images/D7N2EKCX4Sj/camera/0.txt')\n",
    "extrinsics, intrinsics = camera_params[:4], camera_params[4:]\n",
    "\n",
    "image = PilImage.open('/Users/artonson/tmp/spsg/images/D7N2EKCX4Sj/color/1.jpg')\n",
    "image_array = np.asarray(image)"
   ]
  },
  {
   "cell_type": "code",
   "execution_count": null,
   "id": "a5b4f776",
   "metadata": {},
   "outputs": [],
   "source": [
    "image = PilImage.open('/Users/artonson/tmp/spsg/images/D7N2EKCX4Sj/depth/1.png')\n",
    "image_array = np.asarray(image, dtype=np.float_)"
   ]
  },
  {
   "cell_type": "code",
   "execution_count": null,
   "id": "9234353b",
   "metadata": {},
   "outputs": [],
   "source": [
    "image_to_display = image_array.copy()\n",
    "background_idx = image_to_display == 0.\n",
    "image_to_display[background_idx] = np.nan\n",
    "\n",
    "plt.imshow(image_to_display)"
   ]
  },
  {
   "cell_type": "code",
   "execution_count": null,
   "id": "977f9004",
   "metadata": {},
   "outputs": [],
   "source": []
  }
 ],
 "metadata": {
  "kernelspec": {
   "display_name": "Python 3 (ipykernel)",
   "language": "python",
   "name": "python3"
  },
  "language_info": {
   "codemirror_mode": {
    "name": "ipython",
    "version": 3
   },
   "file_extension": ".py",
   "mimetype": "text/x-python",
   "name": "python",
   "nbconvert_exporter": "python",
   "pygments_lexer": "ipython3",
   "version": "3.8.6"
  }
 },
 "nbformat": 4,
 "nbformat_minor": 5
}
